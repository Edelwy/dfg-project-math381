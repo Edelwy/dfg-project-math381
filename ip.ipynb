{
 "cells": [
  {
   "cell_type": "markdown",
   "metadata": {},
   "source": [
    "# Determining Connectivity of Telecommunication Networks\n",
    "\n",
    "We implemented the IP model using an optimization software called **`Gurobi`** alongside the Python package **`networkx`** in order to manipulate graphs. \n",
    "Here is the quick summery of the code, with a lot of comments to make the model implementation easier to read. For details on the model itself, and the structure, reasoning and problem statement go to the paper, that is also available in [Github](https://github.com/Edelwy/dfg-project-math381). This write-up is meant purely to explain the implementation reasoning, the problem should be known to the reader prior to reading this.\n",
    "\n",
    "First, we set up the environment and import packages. `networkx` is used for working with graphs and their elements, without having to implement the object structure ourselves. We used it mostly for working with nodes and edges and acquiring their neighbors, etc. The `gurobipy` package is crucial to our model as it is the core of solving the IP problem. It is wildly used for linear programming optimization. It provides 2 main algorithms, the barrier and the simplex method, but these are used for continuous models (real variable values), while we have integer programming (integer variable values). This problem is solved via a series of linear programming relaxations. For more detail, refer to our paper and references."
   ]
  },
  {
   "cell_type": "code",
   "execution_count": 43,
   "metadata": {},
   "outputs": [],
   "source": [
    "import gurobipy as gp # Used for the IP model.\n",
    "import numpy as np # Used for basic math operations.\n",
    "from gurobipy import GRB # Used for setting the model to integer programing.\n",
    "import networkx as nx # Used for graph manipulation.\n",
    "import matplotlib.pyplot as plt # Used for vizualization of graphs.\n",
    "import pandas as pd # Used for the data parsing.\n",
    "import copy # We need this when creating paths.\n",
    "import random # For vizualization.\n",
    "import matplotlib.colors as mcolors # For vizualization.\n",
    "import time # For timing the execution.\n",
    "\n",
    "plt.rcParams['figure.dpi'] = 150 # Picture resoluton."
   ]
  },
  {
   "cell_type": "markdown",
   "metadata": {},
   "source": [
    "The company provided us with data in *Excel* files. There are 2 sheets in one file for one network. One is for nodes and one is for links. The first column of the **\"nodes\"** sheet is `str_name` which is used for labeling the nodes. The second column `ref_name` is the type of the node. There are 3 supported types: **PJ** is a manhole, **TS** is a splitter, and **OS** is a house.\n",
    "\n",
    "The **\"links\"** sheet has 4 columns. The first one `span_name` is just a unique label for the edge.\tThe second `to_str_name` is the end node and third `from_str_name` is the start node (this is the order and layout of the data provided by the company). The fourth column is not provided by the company but has to be read from the corresponding picture they provide and is called `weights` short for edge weights.\n",
    "\n",
    "We are using a `pandoc` package to read the data, so any of the [supported formats](https://pandas.pydata.org/docs/reference/api/pandas.read_excel.html) can be used. We transform both sheets (data frames) to a matrix and then append the nodes to three lists, manhole, house and splitter nodes. Edges go in to one list."
   ]
  },
  {
   "cell_type": "code",
   "execution_count": 44,
   "metadata": {},
   "outputs": [],
   "source": [
    "# Function for reading the input.\n",
    "# The input is in 2 spreadsheets one with links and one with nodes.\n",
    "def parseInput(filepath):\n",
    "\n",
    "    # We create a dataframe reading the input in a spreadsheed form.\n",
    "    nodes_dataframe = pd.read_excel(filepath, sheet_name=\"nodes\").to_numpy()\n",
    "    edges_dataframe = pd.read_excel(filepath, sheet_name=\"links\").to_numpy()\n",
    "\n",
    "    house_nodes = [] # Initializing the list of nodes type house.\n",
    "    manhole_nodes = [] # Initializing the list of nodes type manhole.\n",
    "    splitter_nodes = [] # Initializing the list of nodes type splitte.\n",
    "    edges = [] # Initializing the list of edges.\n",
    "\n",
    "    # Reading the data from the spreadsheed and adding the nodes to \n",
    "    # their corresponding list, based on the type.\n",
    "    for row in nodes_dataframe:\n",
    "        node_type = row[1]\n",
    "        if node_type == \"PJ\":\n",
    "            manhole_nodes.append(row[0])\n",
    "        if node_type == \"TS\":\n",
    "            splitter_nodes.append(row[0])\n",
    "        if node_type == \"OS\":\n",
    "            house_nodes.append(row[0])\n",
    "    \n",
    "    # Adding the edges from the spreadshit to the list.\n",
    "    for row in edges_dataframe:\n",
    "        edges.append((row[1], row[2], row[3]))\n",
    "        \n",
    "    # Returning all four lists.\n",
    "    return house_nodes, manhole_nodes, splitter_nodes, edges"
   ]
  },
  {
   "cell_type": "markdown",
   "metadata": {},
   "source": [
    "This function creates a graph from the data we parsed earlier. The `networkx` graph structure does not know the distinction between the three types of nodes once we add them, this is why we need 3 separate lists. Mind that this is an undirected graph. We will modify it into a directed graph later."
   ]
  },
  {
   "cell_type": "code",
   "execution_count": 45,
   "metadata": {},
   "outputs": [],
   "source": [
    "# Function that creates a graph.\n",
    "def createGraph(house_nodes, manhole_nodes, splitter_nodes, edges):\n",
    "    G = nx.Graph() # Creating an empty networkx graph.\n",
    "\n",
    "    # Adding all of the nodes.\n",
    "    G.add_nodes_from(house_nodes) \n",
    "    G.add_nodes_from(manhole_nodes) \n",
    "    G.add_nodes_from(splitter_nodes) \n",
    "\n",
    "    # Adding all of the edges.\n",
    "    for edge in edges: \n",
    "        G.add_edge(edge[0], edge[1], capacity=edge[2])\n",
    "    return G"
   ]
  },
  {
   "cell_type": "markdown",
   "metadata": {},
   "source": [
    "Now we have a few functions using `Gurobi` to define our model.\n",
    "\n",
    "First we define the variables.\n",
    "The algorithm traverses each directed edge, to initialize all possible junction variables.  Each variable is stored in a dictionary, whose keys are pairs of edges that create a junction. If two edges share a common node, then the variable is added to our dictionary. We only allow for **integer** values because the number of cables is an integer, therefore the number of connected edges at a junction has to be an integer.\n",
    "\n",
    "Then we have the constraints. For each `start` edge, the corresponding constraint is the sum of all variables that route to the `end` node. So if `start` is $ab \\in E$ then `end` can be any edge $bc \\in E$. Furthermore, we must also add the variables where the cable is wired from `end` to `start` edge, meaning $cb \\in E$ routing to $ba$. We also ensure that every variable value is possible by adding this constraint to the model here.\n",
    "\n",
    "We then add the **objective function** to the model, to minimize the number of paths that do not connect to a manhole. We simply iterate through all variables and add the ones that route from a subscriber to a subscriber through any node. Furthermore, we will prune the solutions with paths not connected to a manhole later, but this ensures that the solutions with minimized number of *house-node-house* junctions are at the top of the solution pool. This is useful as a time optimizations, because we will need to prune less solutions before we find one that suits us. \n",
    "\n",
    "Finally, we evaluate our model and save a number of solutions equal to the `pool_solutions` value."
   ]
  },
  {
   "cell_type": "code",
   "execution_count": 46,
   "metadata": {},
   "outputs": [],
   "source": [
    "# Function that creates the variables.\n",
    "def createVariables(model, G_directed): # We are working with a directed graph.\n",
    "    x = {} # Initializing an empty dictionary for storing the variables.\n",
    "    # Iterating through first edges in junctions.\n",
    "    for start in G_directed.edges(): \n",
    "        # Iterating through last edges in junctions.\n",
    "        for end in G_directed.edges(start): \n",
    "            # If these 2 edges have a common middle \n",
    "            #node we add them to the dictionary.\n",
    "            if end[1] != start[0] and start[1] == end[0] and start[1][0] != \"M\": \n",
    "                x[start, end] = \\\n",
    "                model.addVar(name=f\"x[{start[0]} {start[1]} {end[1]}]\", \\\n",
    "                            vtype=GRB.INTEGER)     \n",
    "    return x"
   ]
  },
  {
   "cell_type": "code",
   "execution_count": 47,
   "metadata": {},
   "outputs": [],
   "source": [
    "# Function for creating constraints.\n",
    "# Creating constraints for the start cable bundles.\n",
    "# x is the variable vector, G_directed is the directed graph.\n",
    "def createConstraints(model, G_directed, x, weights): \n",
    "    # Fixed edge, the constraint of which we are using.\n",
    "    for start in G_directed.edges():\n",
    "        constr = 0 # Initialize the constraint.\n",
    "        # All other possible junction from this fixed edge.\n",
    "        for end in G_directed.edges(start):\n",
    "            # Check if the variable is in the dictionary.\n",
    "            if (start, end) in x:\n",
    "                var_start = x[start, end]\n",
    "                constr = constr + var_start # Add to the sum.\n",
    "                model.addConstr(var_start >= 0) # Implicit constraint.\n",
    "            # Check if the junction variable for the junction going\n",
    "            # in the opposite direction is in the dictionary.\n",
    "            if ((end[1], end[0]),(start[1], start[0])) in x:\n",
    "                var_end = x[(end[1], end[0]),(start[1], start[0])]\n",
    "                constr = constr + var_end # Add to the sum.\n",
    "                model.addConstr(var_end >= 0) # Implicit constraint.\n",
    "\n",
    "        # The sum of variables on the fixed edge must be equal to the\n",
    "        # weight on that edge.\n",
    "        constr = constr == weights[start]\n",
    "        # In the case where the key is not in the dictionary,\n",
    "        # The constraint will be 0 which equals false, we dont want that.\n",
    "        if constr != False: \n",
    "            model.addConstr(constr)"
   ]
  },
  {
   "cell_type": "code",
   "execution_count": 48,
   "metadata": {},
   "outputs": [],
   "source": [
    "# Setting the objective function.\n",
    "def createObjective(model, house_nodes, x):\n",
    "    min = 0 # Initialize the objective function.\n",
    "    for (start, end), var in x.items(): # Iterate through variables.\n",
    "        # If the start node of the junction and the end node of the junction\n",
    "        # are both houses, then we add it to the sum.\n",
    "        if start[0] in house_nodes and end[1] in house_nodes:\n",
    "            min += var\n",
    "    model.setObjective(min, sense = gp.GRB.MINIMIZE) "
   ]
  },
  {
   "cell_type": "code",
   "execution_count": 49,
   "metadata": {},
   "outputs": [],
   "source": [
    "# Finding the solution to our model.\n",
    "def evaluateModel(model, solution_name, pool_solutions):\n",
    "    model.setParam(\"OutputFlag\", False) # We don't want an output printed.\n",
    "    model.setParam(GRB.Param.PoolSearchMode, 2) # Mode for searching all optimal solutions.\n",
    "    model.setParam(GRB.Param.PoolSolutions, pool_solutions) # Number of solutions saved.\n",
    "    model.optimize() # Actually optimizing the model and finding the solution."
   ]
  },
  {
   "cell_type": "markdown",
   "metadata": {},
   "source": [
    "The next segment is for creating paths from junction variables in the solution. We need this to get the bigger picture. The value of a variable in a junction represents the number of cables connecting there, but this does not mean that we know how the paths are constructed yet. We have to stitch together the edges in these junctions in order to obtain the paths. \n",
    "\n",
    "First we have a function that modifies the variable names so that the nodes are more accessible for later use, when converting junction variables into paths. The next function deals with edge cases when there is no junction variables. There can be *manhole-node* paths consisting of just one edge that we need to take into account. Afterwards we have a function that determines whether we stitch the junction into the path or not. This procedure is described in detail below.\n",
    "\n",
    "We have a `varsInPath` set that stores all the variables that have been stitched into a path already. This prevents duplicates. \n",
    "We have a fixed variable, and we iterate over all the other variables over and over again stitching them together until any more changes occur. Then we repeat the process for any other variable that is not in the `varsInPath` set. We stitch a junction to a path in 4 cases. If the junction has the same direction as the path we are creating, we stitch it if either the first edge in the junction matches the last in the path or the last edge in the junction matches the first one in the path. We add the edge that is not yet in the path (the one that is not matching). Second case is when the direction is opposite. Then either the last junction edge matches the last path edge or the first junction edge matches the first path edge. We have to continue this until all variables cannot connect anywhere because their value is 0.\n",
    "\n",
    "One thing we have to be careful about when stitching the path is cycles. If we encounter a cycle we must decrease the junction variable value, because this means we connected the cycle with this being the final junction connection, but we should not add the edge to the path because we don't want duplicates.\n",
    "\n",
    "If a variable is stitched it does not go directly to the `varsInPath` set. Its value is decreased by one, because that means one of the connections was stitched, but there could be more, so we have to keep that option. A variable is added to the set when its value reaches 0, meaning no more connections go through that junction."
   ]
  },
  {
   "cell_type": "code",
   "execution_count": 50,
   "metadata": {},
   "outputs": [],
   "source": [
    "# Function that changes name from \"x[A B C]\"\" to \"A B C\".\n",
    "def modifyVariableName(model):\n",
    "    vars = {} # Empty dictionary of variables.\n",
    "    for var in model.getVars():\n",
    "        if var.xn != 0: # We only need junctions that connect.\n",
    "            pathVarName = var.VarName.replace(\"x\", \"\")\n",
    "            pathVarName = pathVarName.replace(\"[\", \"\").replace(\"]\", \"\")\n",
    "            vars[pathVarName] = int(var.xn)\n",
    "    return vars"
   ]
  },
  {
   "cell_type": "code",
   "execution_count": 95,
   "metadata": {},
   "outputs": [],
   "source": [
    "# Adding paths consisting of just 1 edge.\n",
    "def addOneEdgePaths(G, paths, manhole_nodes, weights):\n",
    "    # Going throught every manhole node and checking its neighbors.\n",
    "    for node in manhole_nodes: \n",
    "        for neighbor in G.neighbors(node):\n",
    "            # If the list of neighbors of the neighbor is just one element,\n",
    "            # it means that the neighbor is a leaf node, so we have to add \n",
    "            # this one edge path to the paths list.\n",
    "            next_neighbors = list(G.neighbors(neighbor))\n",
    "            if len(next_neighbors) == 1:\n",
    "                for i in range(weights[node, neighbor]):\n",
    "                    paths.append([node, neighbor])\n",
    "            # If we have 2 manholes connecting to eachother we also must add them.\n",
    "            # There is no junctions to connect here.\n",
    "            elif neighbor in manhole_nodes and [node, neighbor] not in paths:\n",
    "                for i in range(weights[neighbor, node]):\n",
    "                    paths.append([neighbor, node])\n",
    "                "
   ]
  },
  {
   "cell_type": "code",
   "execution_count": 52,
   "metadata": {},
   "outputs": [],
   "source": [
    "# Helper function that updates the variable when it is added to the path.\n",
    "def updateVariable(vars, varKey, varsInPaths):\n",
    "    vars[varKey] = vars[varKey] - 1 # Decrease number of connections in junction.\n",
    "    if vars[varKey] == 0: # If there is no more options, we cannot use this anymore.\n",
    "        varsInPaths.add(varKey)"
   ]
  },
  {
   "cell_type": "code",
   "execution_count": 53,
   "metadata": {},
   "outputs": [],
   "source": [
    "# Helper function to determine if junction is in path.\n",
    "# We have for different options.\n",
    "# The last clause in the boolean expression is to work with cycles.\n",
    "def addNodeToPath(path, nodes):\n",
    "    # We add to the front of the path and the direction \n",
    "    # of the junction is the same as the path.\n",
    "    if path[0] == nodes[1] and path[1] == nodes[2]:\n",
    "        if nodes[0] != path[-2]:\n",
    "            path.insert(0, nodes[0])\n",
    "        return True\n",
    "    # We add to the front of the path and the direction \n",
    "    # of the junction is the opposite as the path.\n",
    "    elif path[0] == nodes[1] and path[1] == nodes[0]:\n",
    "        if nodes[2] != path[-2]:\n",
    "            path.insert(0, nodes[2])\n",
    "        return True\n",
    "    # We add to the end ont of the path and the direction \n",
    "    # of the junction is the same as the path.\n",
    "    elif path[-2] == nodes[0] and path[-1] == nodes[1]:\n",
    "        if nodes[2] != path[1]:\n",
    "            path.append(nodes[2])\n",
    "        return True\n",
    "    # We add to the end ont of the path and the direction \n",
    "    # of the junction is the opposite as the path.\n",
    "    elif path[-2] == nodes[2] and path[-1] == nodes[1]:\n",
    "        if nodes[0] != path[1]:\n",
    "            path.append(nodes[0])\n",
    "        return True\n",
    "    else: \n",
    "        return False"
   ]
  },
  {
   "cell_type": "code",
   "execution_count": 54,
   "metadata": {},
   "outputs": [],
   "source": [
    "# A function that changes junction variables into paths.\n",
    "def junctionsToPaths(model, G, manhole_nodes, weights):\n",
    "    # This function changes the name from IP variable names, to\n",
    "    # just nodes in the junction so it is more readable in the path.\n",
    "    # Name goes from \"x[A B C]\"\" to \"A B C\".\n",
    "    vars = copy.deepcopy(modifyVariableName(model))\n",
    "    varsInPaths = set() # So we don't create paths from variables we already added.\n",
    "    paths = [] # We will save paths created here.\n",
    "    ixVar = 0\n",
    "    while varsInPaths != set(vars):\n",
    "        firstVarKey = list(vars.keys())[ixVar]\n",
    "\n",
    "        # Check if the fixed variable is already in some path.\n",
    "        if firstVarKey not in varsInPaths:\n",
    "            firstNodes = firstVarKey.split(\" \") # First three nodes of the path.\n",
    "            path = [firstNodes[0], firstNodes[1], firstNodes[2]] # Add them.\n",
    "            updateVariable(vars, firstVarKey, varsInPaths)\n",
    "\n",
    "            # We are going through the variables until there are changes made,\n",
    "            # to the path. Once no new path is added, we can be sure the path is done.\n",
    "            change = True\n",
    "            while change:\n",
    "                # We check for a change every iteration.\n",
    "                change = False\n",
    "                for varKey in vars.keys():\n",
    "                    if(varKey == firstVarKey): \n",
    "                        continue\n",
    "                    nodes = varKey.split(\" \") # Getting all 3 nodes out of the junction.\n",
    "                    # If this key is not used up already we can check whether,\n",
    "                    # it matches the path we are building.\n",
    "                    if varKey not in varsInPaths:\n",
    "                        change = addNodeToPath(path, nodes)\n",
    "                        if change:\n",
    "                            updateVariable(vars, varKey, varsInPaths)\n",
    "            paths.append(path)\n",
    "        # We move onto the next variable modulo the length of our list,\n",
    "        # because we are looping through it.\n",
    "        ixVar = (ixVar + 1) % len(vars)\n",
    "    addOneEdgePaths(G, paths, manhole_nodes, weights)\n",
    "    return paths"
   ]
  },
  {
   "cell_type": "markdown",
   "metadata": {},
   "source": [
    "This next few functions are here for visualization. The first is a function that darkens the color of the edges used in the visualization of the solution.\n",
    "The next one adds an edge to the multigraph while also bending it, so there is no overlap. Next we have to create a multigraph that helps with the visualization of the disjoint paths. Each of the paths is represented in a **different color**.\n",
    "\n",
    "The last 2 functions of this segment are using `matplotlib` package. The manholes are in the square shape, the houses are circle and the splitters are in the shape of a diamond. The first function plots the undirected graph (input) where the number of cables in a bundle (edge) are presented as weights directly on that edge. The second one plots an undirected multigraph. The disjoint paths are colored each in different color."
   ]
  },
  {
   "cell_type": "code",
   "execution_count": 55,
   "metadata": {},
   "outputs": [],
   "source": [
    "# A helper function to darken the colour of the edges, so the vizualization\n",
    "# looks more readable.\n",
    "def darken_color(color, amount = 0.8): # amount is percantage.\n",
    "    rgb = mcolors.hex2color(color) # Changing the format.\n",
    "    hsv = mcolors.rgb_to_hsv(rgb) # Changing the format again.\n",
    "    new_value = hsv[2] * amount # Darkening the colour.\n",
    "    new_rgb = mcolors.hsv_to_rgb((hsv[0], hsv[1], new_value)) # Changing back the format.\n",
    "    new_hex = mcolors.rgb2hex(new_rgb) # Changing back the format again.\n",
    "    return new_hex"
   ]
  },
  {
   "cell_type": "code",
   "execution_count": 56,
   "metadata": {},
   "outputs": [],
   "source": [
    "# A helper function for adding the edges to the multigraph with colors and edge angles.\n",
    "def add_edge(G, a, b, edgeColor = 0):\n",
    "    # If the edge is already in the graph we must ad an angle to the edge, so there is no overlap.\n",
    "    if (a, b) in G.edges: \n",
    "        max_rad = max(x[2]['rad'] for x in G.edges(data=True) if sorted(x[:2]) == sorted([a,b]))\n",
    "    else: # If the edge isn't in the graph it can be straight.\n",
    "        max_rad = 0\n",
    "    G.add_edge(a, b, rad=max_rad+0.1, color=edgeColor) # Adding the edge with angle and colour."
   ]
  },
  {
   "cell_type": "code",
   "execution_count": 57,
   "metadata": {},
   "outputs": [],
   "source": [
    "# Creates a multigraph for the vizualization of the solution.\n",
    "def createMultigraph(house_nodes, manhole_nodes, splitter_nodes, paths):\n",
    "    G_multi = nx.MultiDiGraph() # Creates an empty graph.\n",
    "    G_multi.add_nodes_from(house_nodes) \n",
    "    G_multi.add_nodes_from(manhole_nodes) \n",
    "    G_multi.add_nodes_from(splitter_nodes) \n",
    "\n",
    "    # Creating random colours so we can use them for showing paths.\n",
    "    valid_colors = list(mcolors.CSS4_COLORS.values())  # List of valid color names\n",
    "    random.shuffle(valid_colors)\n",
    "    \n",
    "    # Iterating through pairs of colours and paths, and adding them to the graph.\n",
    "    for color, path in zip(valid_colors[:len(paths)], paths):\n",
    "        for i in range(len(path) - 1): # Going over each edge in the path.\n",
    "            add_edge(G_multi, path[i], path[i+1], darken_color(color))\n",
    "    return G_multi"
   ]
  },
  {
   "cell_type": "code",
   "execution_count": 123,
   "metadata": {},
   "outputs": [],
   "source": [
    "# Function that vizualizes the graph.\n",
    "# The specifications are for prettier output.\n",
    "def visualizeGraph(G, pos, house_nodes, manhole_nodes, splitter_nodes, weights, ax=None):\n",
    "    nx.draw_networkx_nodes(G, pos, house_nodes, node_shape='o', \n",
    "                           edgecolors=\"black\", linewidths=0.5, ax=ax)\n",
    "    nx.draw_networkx_nodes(G, pos, manhole_nodes, node_shape='s', \n",
    "                           edgecolors=\"black\", linewidths=0.5, ax=ax)\n",
    "    nx.draw_networkx_nodes(G, pos, splitter_nodes, node_shape='D', \n",
    "                           edgecolors=\"black\", linewidths=0.5, ax=ax)\n",
    "    nx.draw_networkx_edges(G ,pos, width=0.5, ax=ax)\n",
    "    nx.draw_networkx_edge_labels(G, pos, edge_labels=weights, font_size=6, \n",
    "                                 font_family=\"serif\", rotate=False, ax=ax)\n",
    "    nx.draw_networkx_labels(G, pos, font_size=6, font_family=\"serif\", ax=ax)"
   ]
  },
  {
   "cell_type": "code",
   "execution_count": 115,
   "metadata": {},
   "outputs": [],
   "source": [
    "# Function that vizualizes the solution (multigraph).\n",
    "# Each colour is a disjoint path.\n",
    "# The specifications are for prettier output.\n",
    "def visualizeMultigraph(G_multi, pos, house_nodes, manhole_nodes, splitter_nodes, ax=None):\n",
    "    nx.draw_networkx_nodes(G_multi, pos, house_nodes, node_shape='o', \n",
    "                           edgecolors=\"black\", linewidths=0.5, ax=ax)\n",
    "    nx.draw_networkx_nodes(G_multi, pos, manhole_nodes, node_shape='s', \n",
    "                           edgecolors=\"black\", linewidths=0.5, ax=ax)\n",
    "    nx.draw_networkx_nodes(G_multi, pos, splitter_nodes, node_shape='D', \n",
    "                           edgecolors=\"black\", linewidths=0.5, ax=ax)\n",
    "    for edge in G_multi.edges(data=True):\n",
    "        nx.draw_networkx_edges(G_multi, pos, \n",
    "                               edgelist=[(edge[0],edge[1])],\n",
    "                               connectionstyle=f'arc3, rad = {edge[2][\"rad\"]}', \n",
    "                               width=1.0, arrowstyle=\"-\", \n",
    "                               edge_color=edge[2][\"color\"], ax=ax)\n",
    "    nx.draw_networkx_labels(G_multi, pos, font_size=6, font_family=\"serif\", ax=ax)"
   ]
  },
  {
   "cell_type": "markdown",
   "metadata": {},
   "source": [
    "This function checks a list of paths and returns `True` if all the paths have at least one manhole and `False` otherwise. We need this in the final step of our modeling, because a user can specify whether we allow such paths or not. If the not then we use this function to check if the condition is satisfied."
   ]
  },
  {
   "cell_type": "code",
   "execution_count": 60,
   "metadata": {},
   "outputs": [],
   "source": [
    "# Checking if the solution has paths with no manholes.\n",
    "def checkPaths(paths):\n",
    "    for path in paths:\n",
    "        has_manhole = False\n",
    "        for node in path:\n",
    "            # If a path has a manhole we stop the search\n",
    "            # in this path and move on to the next one.\n",
    "            if \"M\" in node:\n",
    "                has_manhole = True\n",
    "                break\n",
    "        # If a path doesn't have a manhole we return false,\n",
    "        # therefore the solution is not satisfactory.\n",
    "        if not has_manhole:\n",
    "            return False\n",
    "    # If all paths had at least one manhole, we return true.\n",
    "    return True\n",
    "        "
   ]
  },
  {
   "cell_type": "markdown",
   "metadata": {},
   "source": [
    "This defines the **report of the solution**. We are reporting on the number of solutions saved by the model (not necessarily all, depends on the hyperparameter). We also state which of the saved solution is being reported by stating its index and whether it satisfies the no-manhole paths rule. Execution time is the total time in seconds from the parsing of the data until the report. The visualization process is not being counted towards this time. If the user wants the junction variables (mathematical solution) printed, then they can do so with the `junction_variables` flag. Otherwise, only paths are being reported on (the interpretation)."
   ]
  },
  {
   "cell_type": "code",
   "execution_count": 61,
   "metadata": {},
   "outputs": [],
   "source": [
    "# Writing up the report of the model to the user.\n",
    "def writeReport(model, paths, solNo, execution_time, junction_variables):\n",
    "    report = \"REPORT:\\n\"\n",
    "    report += f\"Number of solutions found: {model.SolCount}\\n\"\n",
    "    report += f\"This is the {solNo}. solution the model found.\\n\"\n",
    "    report += f\"Does this solution have a manhole in every path: {checkPaths(paths)}\\n\"\n",
    "    report += f\"Execution time: {execution_time:.4f} seconds.\\n\"\n",
    "\n",
    "    if junction_variables:\n",
    "        report += \"\\nJUNCTION VARIABLES: \\n\"\n",
    "        for var in model.getVars():\n",
    "            if var.xn != 0:\n",
    "                report += f\"{var.VarName}: {var.xn}\\n\"\n",
    "\n",
    "    report += \"\\nPATHS: \\n\"\n",
    "    for i, path in enumerate(paths):\n",
    "        paths_str = \", \".join(path)\n",
    "        report += f\"{i:3}: {paths_str}\\n\"\n",
    "    print(report)\n",
    "            "
   ]
  },
  {
   "cell_type": "markdown",
   "metadata": {},
   "source": [
    "These are the **hyperparameters** that are available as `ip.py` arguments. You can tweak these to try out different options. \n",
    "- `input_file` specifies the location and name from which input data is read.\n",
    "- `pool_number` is specifying how many solutions are saved.\n",
    "- `-visualize` flag is used you want a picture representing the input and the solution as the program output. If you don't use this the `matplotlib` package is not necessary.\n",
    "- `allow_all_paths` flag removes a restriction on the paths we allow in the solution of our model. The default does not allow paths with no manholes.\n",
    "- `junction_variables` flag is used if you also want the junction variables from the IP model in the report."
   ]
  },
  {
   "cell_type": "code",
   "execution_count": 150,
   "metadata": {},
   "outputs": [],
   "source": [
    "# These are the parameters of the model that can be changed.\n",
    "visualize = True \n",
    "allow_all_paths = False\n",
    "junction_variables = False\n",
    "input_file = \"C:\\\\Users\\\\ninam\\\\Documents\\\\FAKS\\\\ABSOLVENT\\\\Discrete Math Modeling\\\\Project\\\\Theoretical Examples\\\\Not Tested\\\\Example10.xlsx\"\n",
    "pool_solutions = 1"
   ]
  },
  {
   "cell_type": "markdown",
   "metadata": {},
   "source": [
    "This is the cell that does it all. Before were just function definitions, this is the actual **script we are executing**.\n",
    "First we parse the input, then create a graph and make it bidirectional. We create a weights vector, a variable vector, add the constraints and the objective function. After all this the model is evaluated and paths are created from the solution. If we are not allowing paths with no manholes, then solutions are checked until the first satisfactory solution is found. If there is none we return a solution, but warn the user that it is not optimal."
   ]
  },
  {
   "cell_type": "code",
   "execution_count": 151,
   "metadata": {},
   "outputs": [
    {
     "name": "stdout",
     "output_type": "stream",
     "text": [
      "REPORT:\n",
      "Number of solutions found: 1\n",
      "This is the 0. solution the model found.\n",
      "Does this solution have a manhole in every path: True\n",
      "Execution time: 0.0196 seconds.\n",
      "\n",
      "PATHS: \n",
      "  0: H4, S3, S2, M2\n",
      "  1: H6, S3, S2, M3\n",
      "  2: H7, S1, M1\n",
      "  3: M1, S1, H1\n",
      "  4: M1, S1, S2, S3, H3\n",
      "  5: M3, S2, S3, H5\n",
      "  6: M3, H2\n",
      "\n"
     ]
    },
    {
     "data": {
      "image/png": "[encoded data removed]",
      "text/plain": [
       "<Figure size 960x720 with 1 Axes>"
      ]
     },
     "metadata": {},
     "output_type": "display_data"
    },
    {
     "data": {
      "image/png": "[encoded data removed]",
      "text/plain": [
       "<Figure size 960x720 with 1 Axes>"
      ]
     },
     "metadata": {},
     "output_type": "display_data"
    }
   ],
   "source": [
    "# Start the timer.\n",
    "start_time = time.time()\n",
    "\n",
    "# First we parse the input file provided in the arguments.\n",
    "# From that we get nodes of type house, splitter and manhole.\n",
    "# We also get edges and edge weights.\n",
    "house_nodes, manhole_nodes, splitter_nodes, edges = parseInput(input_file)\n",
    "\n",
    "# Then we create an undirected graph using these nodes and edges.\n",
    "G = createGraph(house_nodes, manhole_nodes, splitter_nodes, edges)\n",
    "G_directed = G.to_directed() # We also create a directed version of the graph.\n",
    "# We extract the weights vector for all edges (directed).\n",
    "weights = nx.get_edge_attributes(G_directed, 'capacity')\n",
    "model = gp.Model(\"DFG\") # Initialiting the model.\n",
    "\n",
    "x = createVariables(model, G_directed) # Creating the variables vector.\n",
    "createConstraints(model, G_directed, x, weights) # Adding constraints to the model.\n",
    "createObjective(model, house_nodes, x) # Adding the objective function to the model.\n",
    "evaluateModel(model, \"DFG\", pool_solutions=pool_solutions) # Evaluating the solution.\n",
    "\n",
    "if model.SolCount == 0:\n",
    "    print(\"No solution was found for this model.\")\n",
    "else:\n",
    "    paths = junctionsToPaths(model, G, manhole_nodes, weights) # Getting the paths of the model.\n",
    "    # If we don't want paths with house-node-house paths, we iterate through\n",
    "    # the solutions and find the first one that satisfies this constraint.\n",
    "    # If we dont find any we give a warning, that perhaps we should either save more\n",
    "    # solutions or lose the constraint.\n",
    "    solution_index = 0\n",
    "    if not checkPaths(paths) and not allow_all_paths:\n",
    "        for i in range(1, model.SolCount):\n",
    "            model.setParam(GRB.Param.SolutionNumber, i)\n",
    "            paths = junctionsToPaths(model, G, manhole_nodes, weights)\n",
    "            path_check = checkPaths(paths)\n",
    "            if path_check:\n",
    "                solution_index = i\n",
    "                break\n",
    "            if not path_check and i == model.SolCount - 1:\n",
    "                print(\"No solution with a manhole in every path found. \\\n",
    "                    Printing last solution saved. If this is not satisfactory \\\n",
    "                    consider increasing the number of solutions saved.\")\n",
    "                \n",
    "    # Getting the exection time.\n",
    "    end_time = time.time()\n",
    "    execution_time = end_time - start_time\n",
    "\n",
    "    #Printing out the report.\n",
    "    writeReport(model, paths, solution_index, execution_time, junction_variables)\n",
    "\n",
    "# Vizualizing the input as an undirected graph and a solution as a multigraph.\n",
    "if visualize:\n",
    "    pos=nx.spring_layout(G)\n",
    "    visualizeGraph(G, pos, house_nodes, manhole_nodes, splitter_nodes, weights)\n",
    "    plt.show()\n",
    "    if model.SolCount != 0:\n",
    "        G_multi = createMultigraph(house_nodes, manhole_nodes, splitter_nodes, paths)\n",
    "        visualizeMultigraph(G_multi, pos, house_nodes, manhole_nodes, splitter_nodes)\n",
    "        plt.show()"
   ]
  }
 ],
 "metadata": {
  "kernelspec": {
   "display_name": "CondaGPU",
   "language": "python",
   "name": "python3"
  },
  "language_info": {
   "codemirror_mode": {
    "name": "ipython",
    "version": 3
   },
   "file_extension": ".py",
   "mimetype": "text/x-python",
   "name": "python",
   "nbconvert_exporter": "python",
   "pygments_lexer": "ipython3",
   "version": "3.8.18"
  }
 },
 "nbformat": 4,
 "nbformat_minor": 2
}
